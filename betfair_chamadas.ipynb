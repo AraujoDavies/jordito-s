{
 "cells": [
  {
   "cell_type": "code",
   "execution_count": null,
   "metadata": {},
   "outputs": [],
   "source": [
    "from api_betfair import callAping\n",
    "\n",
    "import json"
   ]
  },
  {
   "cell_type": "markdown",
   "metadata": {},
   "source": [
    "# LISTA DE EVENTOS DISPONÍVEIS"
   ]
  },
  {
   "cell_type": "code",
   "execution_count": null,
   "metadata": {},
   "outputs": [],
   "source": [
    "rpc = '{\"jsonrpc\": \"2.0\", \"method\": \"SportsAPING/v1.0/listEventTypes\", \"params\": { \"filter\": {} }, \"id\": 1 }'\n",
    "\n",
    "esportes = callAping(rpc)\n",
    "\n",
    "esportes = json.loads(esportes)\n",
    "\n",
    "for evento in esportes['result']:\n",
    "    print(evento['eventType']['id'], ' - ', evento['eventType']['name'])"
   ]
  },
  {
   "cell_type": "markdown",
   "metadata": {},
   "source": [
    "# LISTAR EVENTOS DE UM ESPORTE ESPECÍFICO"
   ]
  },
  {
   "cell_type": "code",
   "execution_count": null,
   "metadata": {},
   "outputs": [],
   "source": [
    "rpc = \"\"\"\n",
    "{\n",
    "    \"jsonrpc\": \"2.0\",\n",
    "    \"method\": \"SportsAPING/v1.0/listEvents\",\n",
    "    \"params\": {\n",
    "        \"filter\": {\n",
    "            \"eventTypeIds\": [\n",
    "                \"1\"\n",
    "            ],\n",
    "            \"marketStartTime\": {\n",
    "                \"from\": \"2024-05-24T00:00:00Z\",\n",
    "                \"to\": \"2024-05-24T23:59:00Z\"\n",
    "            }\n",
    "        }\n",
    "    },\n",
    "\"id\": 1}\n",
    "\"\"\"\n",
    "\n",
    "jogos = callAping(rpc)\n",
    "\n",
    "jogos = json.loads(jogos)\n",
    "\n",
    "jogos"
   ]
  },
  {
   "cell_type": "markdown",
   "metadata": {},
   "source": [
    "# LISTAR INFORMAÇÕES DE UM EVENTO (ODD, MERCADOS, LIQUIDEZ, ETC.)"
   ]
  },
  {
   "cell_type": "code",
   "execution_count": null,
   "metadata": {},
   "outputs": [],
   "source": [
    "rpc = \"\"\"\n",
    " {\n",
    "    \"jsonrpc\": \"2.0\",\n",
    "    \"method\": \"SportsAPING/v1.0/listMarketCatalogue\",\n",
    "    \"params\": {\n",
    "        \"filter\": {\n",
    "            \"eventIds\": [\n",
    "                \"33295131\"\n",
    "            ]\n",
    "        },\n",
    "        \"maxResults\": \"200\",\n",
    "        \"marketProjection\": [\n",
    "            \"COMPETITION\",\n",
    "            \"EVENT\",\n",
    "            \"EVENT_TYPE\",\n",
    "            \"RUNNER_DESCRIPTION\",\n",
    "            \"RUNNER_METADATA\",\n",
    "            \"MARKET_START_TIME\"\n",
    "        ]\n",
    "    },\n",
    "    \"id\": 1\n",
    "}\n",
    "\"\"\"\n",
    "\n",
    "informacoes = callAping(rpc)\n",
    "\n",
    "informacoes = json.loads(informacoes)\n",
    "\n",
    "informacoes"
   ]
  },
  {
   "cell_type": "code",
   "execution_count": null,
   "metadata": {},
   "outputs": [],
   "source": [
    "from pprint import pprint\n",
    "\n",
    "for info in informacoes['result']:\n",
    "    if 'Correct Score' == info['marketName']:\n",
    "        pprint(info)"
   ]
  },
  {
   "cell_type": "markdown",
   "metadata": {},
   "source": [
    "# MAIS INFORMAÇÕES DO MERCADO (montante correspondido por odd, ultima odd, mercado está ativo ou nao)"
   ]
  },
  {
   "cell_type": "code",
   "execution_count": null,
   "metadata": {},
   "outputs": [],
   "source": [
    "rpc = \"\"\"{\n",
    "    \"jsonrpc\": \"2.0\", \n",
    "    \"method\": \"SportsAPING/v1.0/listMarketBook\", \n",
    "    \"params\": { \n",
    "        \"marketIds\": [\"1.229257209\"], \n",
    "        \"priceProjection\": {\n",
    "            \"priceData\": [\"EX_BEST_OFFERS\", \"EX_TRADED\"],\n",
    "            \"virtualise\": \"true\"}},\n",
    "    \"id\": 1\n",
    "}\"\"\"\n",
    "\n",
    "na = callAping(rpc)\n",
    "\n",
    "na = json.loads(na)\n",
    "\n",
    "na\n"
   ]
  },
  {
   "cell_type": "code",
   "execution_count": null,
   "metadata": {},
   "outputs": [],
   "source": []
  }
 ],
 "metadata": {
  "kernelspec": {
   "display_name": "bl-zebra2--1t-846i-py3.11",
   "language": "python",
   "name": "python3"
  },
  "language_info": {
   "codemirror_mode": {
    "name": "ipython",
    "version": 3
   },
   "file_extension": ".py",
   "mimetype": "text/x-python",
   "name": "python",
   "nbconvert_exporter": "python",
   "pygments_lexer": "ipython3",
   "version": "3.11.0"
  }
 },
 "nbformat": 4,
 "nbformat_minor": 2
}
